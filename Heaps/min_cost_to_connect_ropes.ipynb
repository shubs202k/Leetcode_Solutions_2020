{
 "cells": [
  {
   "cell_type": "markdown",
   "metadata": {},
   "source": [
    "Given n ropes of different lengths, we need to connect these ropes into one rope. We can connect only 2 ropes at a time. The cost required to connect 2 ropes is equal to sum of their lengths. The length of this connected rope is also equal to the sum of their lengths. This process is repeated until n ropes are connected into a single rope. Find the min possible cost required to connect all ropes."
   ]
  },
  {
   "cell_type": "markdown",
   "metadata": {},
   "source": [
    "## Example"
   ]
  },
  {
   "cell_type": "markdown",
   "metadata": {},
   "source": [
    "Input: ropes = [8, 4, 6, 12]\n",
    "Output: 58\n",
    "Explanation: The optimal way to connect ropes is as follows\n",
    "1. Connect the ropes of length 4 and 6 (cost is 10). Ropes after connecting: [8, 10, 12]\n",
    "2. Connect the ropes of length 8 and 10 (cost is 18). Ropes after connecting: [18, 12]\n",
    "3. Connect the ropes of length 18 and 12 (cost is 30).\n",
    "Total cost to connect the ropes is 10 + 18 + 30 = 58"
   ]
  },
  {
   "cell_type": "markdown",
   "metadata": {},
   "source": [
    "## Using Heap"
   ]
  },
  {
   "cell_type": "code",
   "execution_count": 26,
   "metadata": {},
   "outputs": [],
   "source": [
    "from typing import List\n",
    "from heapq import heappop, heappush, heapify\n",
    "\n",
    "def minCostusingHeap(ropes: List[int]) -> int:\n",
    "    \n",
    "    #edge cases\n",
    "    if not ropes: \n",
    "        return 0\n",
    "    \n",
    "    if len(ropes) == 1: \n",
    "        return ropes[0]\n",
    "    \n",
    "    heapify(ropes) #heap object\n",
    "    cost = 0\n",
    "    \n",
    "    while len(ropes) > 1:\n",
    "        \n",
    "        a, b = heappop(ropes), heappop(ropes)\n",
    "        cost += a + b\n",
    "    \n",
    "        if ropes:\n",
    "            heappush(ropes, a + b)\n",
    "    \n",
    "    return cost"
   ]
  },
  {
   "cell_type": "code",
   "execution_count": 27,
   "metadata": {},
   "outputs": [
    {
     "data": {
      "text/plain": [
       "58"
      ]
     },
     "execution_count": 27,
     "metadata": {},
     "output_type": "execute_result"
    }
   ],
   "source": [
    "minCost([8,4,6,12])"
   ]
  },
  {
   "cell_type": "markdown",
   "metadata": {},
   "source": [
    "## Using sort"
   ]
  },
  {
   "cell_type": "code",
   "execution_count": 39,
   "metadata": {},
   "outputs": [],
   "source": [
    "def minCostusingSort(ropes: List[int]) -> int:\n",
    "    \n",
    "    #edge cases\n",
    "    if not ropes: \n",
    "        return 0\n",
    "    \n",
    "    if len(ropes) == 1: \n",
    "        return ropes[0]\n",
    "    \n",
    "    cost = 0\n",
    "    \n",
    "    while len(ropes) > 1:\n",
    "        \n",
    "        ropes.sort(reverse = True)\n",
    "        \n",
    "        a, b = ropes.pop(), ropes.pop()\n",
    "        cost += a + b\n",
    "    \n",
    "        if ropes:\n",
    "            ropes.append(a + b)\n",
    "    \n",
    "    return cost"
   ]
  },
  {
   "cell_type": "code",
   "execution_count": 40,
   "metadata": {},
   "outputs": [
    {
     "data": {
      "text/plain": [
       "58"
      ]
     },
     "execution_count": 40,
     "metadata": {},
     "output_type": "execute_result"
    }
   ],
   "source": [
    "minCostusingSort([8,4,6,12])"
   ]
  },
  {
   "cell_type": "code",
   "execution_count": 41,
   "metadata": {},
   "outputs": [
    {
     "data": {
      "text/plain": [
       "54"
      ]
     },
     "execution_count": 41,
     "metadata": {},
     "output_type": "execute_result"
    }
   ],
   "source": [
    "minCostusingSort([20,4,8,2])"
   ]
  },
  {
   "cell_type": "code",
   "execution_count": 42,
   "metadata": {},
   "outputs": [
    {
     "data": {
      "text/plain": [
       "224"
      ]
     },
     "execution_count": 42,
     "metadata": {},
     "output_type": "execute_result"
    }
   ],
   "source": [
    "minCostusingSort([1, 2, 5, 10, 35, 89])"
   ]
  },
  {
   "cell_type": "code",
   "execution_count": 43,
   "metadata": {},
   "outputs": [
    {
     "data": {
      "text/plain": [
       "20"
      ]
     },
     "execution_count": 43,
     "metadata": {},
     "output_type": "execute_result"
    }
   ],
   "source": [
    "minCostusingSort([2,2,3,3])"
   ]
  },
  {
   "cell_type": "code",
   "execution_count": null,
   "metadata": {},
   "outputs": [],
   "source": []
  }
 ],
 "metadata": {
  "kernelspec": {
   "display_name": "Python 3",
   "language": "python",
   "name": "python3"
  },
  "language_info": {
   "codemirror_mode": {
    "name": "ipython",
    "version": 3
   },
   "file_extension": ".py",
   "mimetype": "text/x-python",
   "name": "python",
   "nbconvert_exporter": "python",
   "pygments_lexer": "ipython3",
   "version": "3.7.6"
  }
 },
 "nbformat": 4,
 "nbformat_minor": 4
}

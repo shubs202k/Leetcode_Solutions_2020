{
 "cells": [
  {
   "cell_type": "markdown",
   "metadata": {},
   "source": [
    "Given a list of intervals, remove all intervals that are covered by another interval in the list.\n",
    "\n",
    "Interval [a,b) is covered by interval [c,d) if and only if c <= a and b <= d.\n",
    "\n",
    "After doing so, return the number of remaining intervals."
   ]
  },
  {
   "cell_type": "code",
   "execution_count": 12,
   "metadata": {},
   "outputs": [],
   "source": [
    "from typing import List\n",
    "class Solution:\n",
    "    def removeCoveredIntervals(self, intervals: List[List[int]]) -> int:\n",
    "        intervals.sort()\n",
    "        \n",
    "        count = 0\n",
    "        \n",
    "        previous_start = intervals[0][0]\n",
    "        previous_end = intervals[0][1]\n",
    "        \n",
    "        for interval in intervals[1:]:\n",
    "            if (previous_start <= interval[0]) and (previous_end >= interval[1]):\n",
    "                count += 1\n",
    "            elif (previous_start == interval[0]) and (previous_end < interval[1]):\n",
    "                count += 1\n",
    "                previous_end = interval[1]\n",
    "            else:\n",
    "                previous_start = interval[0]\n",
    "                previous_end = interval[1]\n",
    "        return len(intervals) - count"
   ]
  },
  {
   "cell_type": "code",
   "execution_count": 13,
   "metadata": {},
   "outputs": [],
   "source": [
    "solution = Solution()"
   ]
  },
  {
   "cell_type": "code",
   "execution_count": 14,
   "metadata": {},
   "outputs": [
    {
     "data": {
      "text/plain": [
       "2"
      ]
     },
     "execution_count": 14,
     "metadata": {},
     "output_type": "execute_result"
    }
   ],
   "source": [
    "solution.removeCoveredIntervals([[1,4],[3,6],[2,8]])"
   ]
  },
  {
   "cell_type": "code",
   "execution_count": null,
   "metadata": {},
   "outputs": [],
   "source": []
  }
 ],
 "metadata": {
  "kernelspec": {
   "display_name": "Python 3",
   "language": "python",
   "name": "python3"
  },
  "language_info": {
   "codemirror_mode": {
    "name": "ipython",
    "version": 3
   },
   "file_extension": ".py",
   "mimetype": "text/x-python",
   "name": "python",
   "nbconvert_exporter": "python",
   "pygments_lexer": "ipython3",
   "version": "3.7.6"
  }
 },
 "nbformat": 4,
 "nbformat_minor": 4
}

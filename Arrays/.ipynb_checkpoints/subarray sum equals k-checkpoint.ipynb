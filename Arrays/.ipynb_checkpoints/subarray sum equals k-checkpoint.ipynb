{
 "cells": [
  {
   "cell_type": "markdown",
   "metadata": {},
   "source": [
    "Given an array of integers and an integer k, you need to find the total number of continuous subarrays whose sum equals to k.\n"
   ]
  },
  {
   "cell_type": "code",
   "execution_count": 27,
   "metadata": {},
   "outputs": [],
   "source": [
    "from typing import List\n",
    "class Solution:\n",
    "    def subarraySum(self, nums: List[int], k: int) -> int:\n",
    "        from collections import defaultdict\n",
    "        \n",
    "        temp = defaultdict(int)\n",
    "        temp[0] = 1\n",
    "        \n",
    "        total,count = 0, 0\n",
    "        \n",
    "        for num in nums:\n",
    "            total += num\n",
    "            count, temp[total] = count + temp[total - k], temp[total] + 1\n",
    "        \n",
    "        return count"
   ]
  },
  {
   "cell_type": "code",
   "execution_count": 29,
   "metadata": {},
   "outputs": [
    {
     "data": {
      "text/plain": [
       "2"
      ]
     },
     "execution_count": 29,
     "metadata": {},
     "output_type": "execute_result"
    }
   ],
   "source": [
    "solution = Solution()\n",
    "solution.subarraySum([1,2,3,4,5,2],7)"
   ]
  },
  {
   "cell_type": "code",
   "execution_count": 26,
   "metadata": {},
   "outputs": [
    {
     "name": "stdout",
     "output_type": "stream",
     "text": [
      "Total is :  1\n",
      "Count is : 0\n",
      "defaultdict(<class 'int'>, {0: 1, -6: 0, 1: 1})\n",
      "\n",
      "\n",
      "Total is :  3\n",
      "Count is : 0\n",
      "defaultdict(<class 'int'>, {0: 1, -6: 0, 1: 1, -4: 0, 3: 1})\n",
      "\n",
      "\n",
      "Total is :  6\n",
      "Count is : 0\n",
      "defaultdict(<class 'int'>, {0: 1, -6: 0, 1: 1, -4: 0, 3: 1, -1: 0, 6: 1})\n",
      "\n",
      "\n",
      "Total is :  10\n",
      "Count is : 1\n",
      "defaultdict(<class 'int'>, {0: 1, -6: 0, 1: 1, -4: 0, 3: 1, -1: 0, 6: 1, 10: 1})\n",
      "\n",
      "\n",
      "Total is :  15\n",
      "Count is : 1\n",
      "defaultdict(<class 'int'>, {0: 1, -6: 0, 1: 1, -4: 0, 3: 1, -1: 0, 6: 1, 10: 1, 8: 0, 15: 1})\n",
      "\n",
      "\n",
      "Total is :  17\n",
      "Count is : 2\n",
      "defaultdict(<class 'int'>, {0: 1, -6: 0, 1: 1, -4: 0, 3: 1, -1: 0, 6: 1, 10: 1, 8: 0, 15: 1, 17: 1})\n",
      "\n",
      "\n"
     ]
    }
   ],
   "source": [
    "# nums = [1,2,3,4,5,2], k=7\n",
    "for num in nums:\n",
    "    total += num\n",
    "    print('Total is : ', total)\n",
    "    count, temp[total] = count + temp[total - k], temp[total] + 1\n",
    "    print('Count is :', count)\n",
    "    print(temp)\n",
    "    print('\\n')"
   ]
  },
  {
   "cell_type": "code",
   "execution_count": null,
   "metadata": {},
   "outputs": [],
   "source": []
  }
 ],
 "metadata": {
  "kernelspec": {
   "display_name": "Python 3",
   "language": "python",
   "name": "python3"
  },
  "language_info": {
   "codemirror_mode": {
    "name": "ipython",
    "version": 3
   },
   "file_extension": ".py",
   "mimetype": "text/x-python",
   "name": "python",
   "nbconvert_exporter": "python",
   "pygments_lexer": "ipython3",
   "version": "3.7.6"
  }
 },
 "nbformat": 4,
 "nbformat_minor": 4
}

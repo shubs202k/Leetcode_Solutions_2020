{
 "cells": [
  {
   "cell_type": "markdown",
   "metadata": {},
   "source": [
    "In a town, there are N people labelled from 1 to N.  There is a rumor that one of these people is secretly the town judge.\n",
    "\n",
    "If the town judge exists, then:\n",
    "\n",
    "The town judge trusts nobody.\n",
    "Everybody (except for the town judge) trusts the town judge.\n",
    "There is exactly one person that satisfies properties 1 and 2.\n",
    "You are given trust, an array of pairs trust[i] = [a, b] representing that the person labelled a trusts the person labelled b.\n",
    "\n",
    "If the town judge exists and can be identified, return the label of the town judge.  Otherwise, return -1."
   ]
  },
  {
   "cell_type": "code",
   "execution_count": 46,
   "metadata": {},
   "outputs": [],
   "source": [
    "from typing import List\n",
    "class Solution:\n",
    "    def findJudge(self, N: int, trust: List[List[int]]) -> int:\n",
    "        \n",
    "        # Edge cases\n",
    "        if (not trust) and (N == 1):\n",
    "            return 1\n",
    "        elif (not trust) and (N > 1):\n",
    "            return -1\n",
    "        \n",
    "        if len(trust) == 1:\n",
    "            return trust[0][1]\n",
    "        \n",
    "        firstElement = [pair[0] for pair in trust]\n",
    "        secondElement = [pair[1] for pair in trust]\n",
    "        \n",
    "        suspect = [element for element in secondElement if element not in firstElement]\n",
    "        \n",
    "        if (not suspect) or (len(set(suspect)) > 1):\n",
    "            return -1\n",
    "        \n",
    "        suspect = suspect[0]\n",
    "        \n",
    "        for num in set(firstElement):\n",
    "            if [num,suspect] not in trust:\n",
    "                return -1\n",
    "            \n",
    "        return suspect"
   ]
  },
  {
   "cell_type": "code",
   "execution_count": 48,
   "metadata": {},
   "outputs": [
    {
     "data": {
      "text/plain": [
       "3"
      ]
     },
     "execution_count": 48,
     "metadata": {},
     "output_type": "execute_result"
    }
   ],
   "source": [
    "solution = Solution()\n",
    "solution.findJudge(4, [[1,3],[1,4],[2,3],[2,4],[4,3]])"
   ]
  },
  {
   "cell_type": "code",
   "execution_count": 49,
   "metadata": {},
   "outputs": [
    {
     "data": {
      "text/plain": [
       "-1"
      ]
     },
     "execution_count": 49,
     "metadata": {},
     "output_type": "execute_result"
    }
   ],
   "source": [
    "solution.findJudge(3, [[1,3],[2,3],[3,1]])"
   ]
  },
  {
   "cell_type": "code",
   "execution_count": null,
   "metadata": {},
   "outputs": [],
   "source": []
  }
 ],
 "metadata": {
  "kernelspec": {
   "display_name": "Python 3",
   "language": "python",
   "name": "python3"
  },
  "language_info": {
   "codemirror_mode": {
    "name": "ipython",
    "version": 3
   },
   "file_extension": ".py",
   "mimetype": "text/x-python",
   "name": "python",
   "nbconvert_exporter": "python",
   "pygments_lexer": "ipython3",
   "version": "3.7.6"
  }
 },
 "nbformat": 4,
 "nbformat_minor": 4
}

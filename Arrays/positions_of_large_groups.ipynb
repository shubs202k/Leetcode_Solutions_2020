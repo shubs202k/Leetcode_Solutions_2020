{
 "cells": [
  {
   "cell_type": "code",
   "execution_count": 22,
   "metadata": {},
   "outputs": [],
   "source": [
    "from typing import List\n",
    "class Solution:\n",
    "    def largeGroupPositions(self, S: str) -> List[List[int]]:\n",
    "        left = 0 \n",
    "        return_list = []\n",
    "        S += '1'\n",
    "        print(S)\n",
    "        for index, letter in enumerate(S):\n",
    "            print(letter, S[left])\n",
    "            if letter != S[left]:\n",
    "                if index - left >= 3:\n",
    "                    return_list.append([left, index - 1])\n",
    "                left = index\n",
    "                print(left)\n",
    "        return return_list"
   ]
  },
  {
   "cell_type": "code",
   "execution_count": 23,
   "metadata": {},
   "outputs": [],
   "source": [
    "solution = Solution()"
   ]
  },
  {
   "cell_type": "code",
   "execution_count": 24,
   "metadata": {},
   "outputs": [
    {
     "name": "stdout",
     "output_type": "stream",
     "text": [
      "abcdddd1\n",
      "a a\n",
      "b a\n",
      "1\n",
      "c b\n",
      "2\n",
      "d c\n",
      "3\n",
      "d d\n",
      "d d\n",
      "d d\n",
      "1 d\n",
      "7\n"
     ]
    },
    {
     "data": {
      "text/plain": [
       "[[3, 6]]"
      ]
     },
     "execution_count": 24,
     "metadata": {},
     "output_type": "execute_result"
    }
   ],
   "source": [
    "solution.largeGroupPositions('abcdddd')"
   ]
  },
  {
   "cell_type": "code",
   "execution_count": 7,
   "metadata": {},
   "outputs": [],
   "source": [
    "s = 'abcdddd'"
   ]
  },
  {
   "cell_type": "code",
   "execution_count": 8,
   "metadata": {},
   "outputs": [],
   "source": [
    "s += '1'"
   ]
  },
  {
   "cell_type": "code",
   "execution_count": 9,
   "metadata": {},
   "outputs": [
    {
     "data": {
      "text/plain": [
       "'abcdddd1'"
      ]
     },
     "execution_count": 9,
     "metadata": {},
     "output_type": "execute_result"
    }
   ],
   "source": [
    "s"
   ]
  },
  {
   "cell_type": "code",
   "execution_count": null,
   "metadata": {},
   "outputs": [],
   "source": []
  }
 ],
 "metadata": {
  "kernelspec": {
   "display_name": "Python 3",
   "language": "python",
   "name": "python3"
  },
  "language_info": {
   "codemirror_mode": {
    "name": "ipython",
    "version": 3
   },
   "file_extension": ".py",
   "mimetype": "text/x-python",
   "name": "python",
   "nbconvert_exporter": "python",
   "pygments_lexer": "ipython3",
   "version": "3.7.6"
  }
 },
 "nbformat": 4,
 "nbformat_minor": 4
}

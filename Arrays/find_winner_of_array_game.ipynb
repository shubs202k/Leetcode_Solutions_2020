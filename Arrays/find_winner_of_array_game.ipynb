{
 "cells": [
  {
   "cell_type": "markdown",
   "metadata": {},
   "source": [
    "Given an integer array arr of distinct integers and an integer k.\n",
    "\n",
    "A game will be played between the first two elements of the array (i.e. arr[0] and arr[1]). In each round of the game, we compare arr[0] with arr[1], the larger integer wins and remains at position 0 and the smaller integer moves to the end of the array. The game ends when an integer wins k consecutive rounds.\n",
    "\n",
    "Return the integer which will win the game.\n",
    "\n",
    "It is guaranteed that there will be a winner of the game."
   ]
  },
  {
   "cell_type": "markdown",
   "metadata": {},
   "source": [
    "## Example"
   ]
  },
  {
   "cell_type": "markdown",
   "metadata": {},
   "source": [
    "Input: arr = [2,1,3,5,4,6,7], k = 2\n",
    "\n",
    "Output: 5\n",
    "\n",
    "Explanation: Let's see the rounds of the game:\n",
    "\n",
    "Round |       arr       | winner | win_count\n",
    "\n",
    "  1   | [2,1,3,5,4,6,7] | 2      | 1\n",
    "  \n",
    "  2   | [2,3,5,4,6,7,1] | 3      | 1\n",
    "  \n",
    "  3   | [3,5,4,6,7,1,2] | 5      | 1\n",
    "  \n",
    "  4   | [5,4,6,7,1,2,3] | 5      | 2\n",
    "  \n",
    "So we can see that 4 rounds will be played and 5 is the winner because it wins 2 consecutive games."
   ]
  },
  {
   "cell_type": "code",
   "execution_count": 18,
   "metadata": {},
   "outputs": [],
   "source": [
    "arr = [2,1,3,5,4,6,7]\n",
    "k = 2"
   ]
  },
  {
   "cell_type": "code",
   "execution_count": 22,
   "metadata": {},
   "outputs": [],
   "source": [
    "from typing import List\n",
    "class Solution:\n",
    "    def getWinner(self, arr: List[int], k: int) -> int:\n",
    "        win_count = 0\n",
    "        \n",
    "        winner = arr[0] \n",
    "        \n",
    "        for num in arr[1:]:\n",
    "            if winner > num:\n",
    "                win_count += 1\n",
    "            else:\n",
    "                winner = num\n",
    "                win_count = 1\n",
    "            if k == win_count:\n",
    "                return winner\n",
    "            \n",
    "        return winner"
   ]
  },
  {
   "cell_type": "code",
   "execution_count": 23,
   "metadata": {},
   "outputs": [],
   "source": [
    "solution = Solution()"
   ]
  },
  {
   "cell_type": "code",
   "execution_count": 24,
   "metadata": {},
   "outputs": [
    {
     "data": {
      "text/plain": [
       "5"
      ]
     },
     "execution_count": 24,
     "metadata": {},
     "output_type": "execute_result"
    }
   ],
   "source": [
    "solution.getWinner([2,1,3,5,4,6,7], k = 2)"
   ]
  },
  {
   "cell_type": "code",
   "execution_count": null,
   "metadata": {},
   "outputs": [],
   "source": []
  }
 ],
 "metadata": {
  "kernelspec": {
   "display_name": "Python 3",
   "language": "python",
   "name": "python3"
  },
  "language_info": {
   "codemirror_mode": {
    "name": "ipython",
    "version": 3
   },
   "file_extension": ".py",
   "mimetype": "text/x-python",
   "name": "python",
   "nbconvert_exporter": "python",
   "pygments_lexer": "ipython3",
   "version": "3.7.6"
  }
 },
 "nbformat": 4,
 "nbformat_minor": 4
}

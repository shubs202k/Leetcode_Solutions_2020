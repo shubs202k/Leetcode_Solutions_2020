{
 "cells": [
  {
   "cell_type": "markdown",
   "metadata": {},
   "source": [
    "Given two lists of closed intervals, each list of intervals is pairwise disjoint and in sorted order.\n",
    "\n",
    "Return the intersection of these two interval lists.\n",
    "\n",
    "(Formally, a closed interval [a, b] (with a <= b) denotes the set of real numbers x with a <= x <= b.  The intersection of two closed intervals is a set of real numbers that is either empty, or can be represented as a closed interval.  For example, the intersection of [1, 3] and [2, 4] is [2, 3].)"
   ]
  },
  {
   "cell_type": "code",
   "execution_count": 200,
   "metadata": {},
   "outputs": [],
   "source": [
    "from typing import List\n",
    "class Solution:\n",
    "    def intervalIntersection(self, A: List[List[int]], B: List[List[int]]) -> List[List[int]]:\n",
    "        intervals = A + B\n",
    "        intervals.sort()\n",
    "        \n",
    "        if not intervals:\n",
    "            return []\n",
    "        \n",
    "        print(intervals)\n",
    "        \n",
    "        previous = intervals[0]\n",
    "        \n",
    "        result = []\n",
    "        \n",
    "        for i in range(1,len(intervals)):\n",
    "            current = intervals[i]\n",
    "\n",
    "            if previous[1] >= current[0]:\n",
    "                result.append([current[0],min(previous[1],current[1])])\n",
    "\n",
    "            if previous[1] <= current[1]:\n",
    "                previous = current\n",
    "\n",
    "        return result"
   ]
  },
  {
   "cell_type": "code",
   "execution_count": 201,
   "metadata": {},
   "outputs": [],
   "source": [
    "solution = Solution()"
   ]
  },
  {
   "cell_type": "code",
   "execution_count": 202,
   "metadata": {},
   "outputs": [
    {
     "name": "stdout",
     "output_type": "stream",
     "text": [
      "[[0, 2], [1, 5], [5, 10], [8, 12], [13, 23], [15, 24], [24, 25], [25, 26]]\n"
     ]
    },
    {
     "data": {
      "text/plain": [
       "[[1, 2], [5, 5], [8, 10], [15, 23], [24, 24], [25, 25]]"
      ]
     },
     "execution_count": 202,
     "metadata": {},
     "output_type": "execute_result"
    }
   ],
   "source": [
    "solution.intervalIntersection(A = [[0,2],[5,10],[13,23],[24,25]],\n",
    "                              B = [[1,5],[8,12],[15,24],[25,26]])"
   ]
  },
  {
   "cell_type": "code",
   "execution_count": 198,
   "metadata": {},
   "outputs": [
    {
     "data": {
      "text/plain": [
       "[[5, 10]]"
      ]
     },
     "execution_count": 198,
     "metadata": {},
     "output_type": "execute_result"
    }
   ],
   "source": [
    "solution.intervalIntersection(A = [[3,10]],B = [[5,10]])"
   ]
  },
  {
   "cell_type": "code",
   "execution_count": 199,
   "metadata": {},
   "outputs": [
    {
     "data": {
      "text/plain": [
       "[[4, 5], [9, 10], [11, 12], [14, 15], [16, 20]]"
      ]
     },
     "execution_count": 199,
     "metadata": {},
     "output_type": "execute_result"
    }
   ],
   "source": [
    "solution.intervalIntersection(A = [[3,5],[9,20]],\n",
    "                              B = [[4,5],[7,10],[11,12],[14,15],[16,20]])"
   ]
  }
 ],
 "metadata": {
  "kernelspec": {
   "display_name": "Python 3",
   "language": "python",
   "name": "python3"
  },
  "language_info": {
   "codemirror_mode": {
    "name": "ipython",
    "version": 3
   },
   "file_extension": ".py",
   "mimetype": "text/x-python",
   "name": "python",
   "nbconvert_exporter": "python",
   "pygments_lexer": "ipython3",
   "version": "3.7.6"
  }
 },
 "nbformat": 4,
 "nbformat_minor": 4
}

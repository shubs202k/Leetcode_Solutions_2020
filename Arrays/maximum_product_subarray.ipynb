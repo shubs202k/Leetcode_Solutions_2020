{
 "cells": [
  {
   "cell_type": "code",
   "execution_count": 18,
   "metadata": {},
   "outputs": [],
   "source": [
    "from typing import List\n",
    "class Solution:\n",
    "    def maxProduct(self, nums: List[int]) -> int:\n",
    "        \n",
    "        max_prod = min_curr = max_curr = nums[0]\n",
    "        \n",
    "        for i in nums[1:]:\n",
    "            \n",
    "            x,y = i*min_curr,i*max_curr\n",
    "            print(x,y)\n",
    "            max_curr = max(i,x,y)\n",
    "            print('Max_current is : ',max_curr)\n",
    "            min_curr = min(i,x,y)\n",
    "            print('Min_current is : ',min_curr)\n",
    "            max_prod = max(max_prod,max_curr,min_curr)\n",
    "            print('Max_product is : ', max_prod)\n",
    "            print('\\n')\n",
    "            \n",
    "        return max_prod"
   ]
  },
  {
   "cell_type": "code",
   "execution_count": 19,
   "metadata": {},
   "outputs": [
    {
     "name": "stdout",
     "output_type": "stream",
     "text": [
      "-6 -6\n",
      "Max_current is :  3\n",
      "Min_current is :  -6\n",
      "Max_product is :  3\n",
      "\n",
      "\n",
      "24 -12\n",
      "Max_current is :  24\n",
      "Min_current is :  -12\n",
      "Max_product is :  24\n",
      "\n",
      "\n"
     ]
    },
    {
     "data": {
      "text/plain": [
       "24"
      ]
     },
     "execution_count": 19,
     "metadata": {},
     "output_type": "execute_result"
    }
   ],
   "source": [
    "maxProduct = Solution()\n",
    "maxProduct.maxProduct([-2,3,-4])"
   ]
  },
  {
   "cell_type": "code",
   "execution_count": null,
   "metadata": {},
   "outputs": [],
   "source": []
  }
 ],
 "metadata": {
  "kernelspec": {
   "display_name": "Python 3",
   "language": "python",
   "name": "python3"
  },
  "language_info": {
   "codemirror_mode": {
    "name": "ipython",
    "version": 3
   },
   "file_extension": ".py",
   "mimetype": "text/x-python",
   "name": "python",
   "nbconvert_exporter": "python",
   "pygments_lexer": "ipython3",
   "version": "3.7.6"
  }
 },
 "nbformat": 4,
 "nbformat_minor": 4
}
